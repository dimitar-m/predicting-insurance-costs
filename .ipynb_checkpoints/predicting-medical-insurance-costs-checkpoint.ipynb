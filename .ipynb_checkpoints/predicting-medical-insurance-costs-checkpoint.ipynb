{
 "cells": [
  {
   "cell_type": "markdown",
   "id": "31d3e518-2f97-4508-8aa3-bf340bb83f03",
   "metadata": {},
   "source": [
    "# Predicting Medical Insurance Costs"
   ]
  },
  {
   "cell_type": "code",
   "execution_count": null,
   "id": "85d45811-e11f-43d0-98c5-f7a93f88b651",
   "metadata": {},
   "outputs": [],
   "source": [
    "# Import necessary libraries\n",
    "import pandas as pd\n",
    "import numpy as np\n",
    "from sklearn.model_selection import train_test_split\n",
    "from sklearn.linear_model import LinearRegression\n",
    "from sklearn.metrics import mean_squared_error, r2_score\n",
    "\n",
    "# Load dataset\n",
    "df = pd.read_csv('insurance.csv')\n",
    "\n",
    "# Display dataset overview\n",
    "display(df.head())\n",
    "print(\"=\"*43)\n",
    "print(\" MEDICAL INSURANCE COSTS DATASET OVERVIEW \")\n",
    "print(\"=\"*43, \"\\n\")\n",
    "print(df.info(), \"\\n\")\n",
    "print(\"=\"*43)\n",
    "print(\" DATA SUMMARY \")\n",
    "print(\"=\"*43, \"\\n\")\n",
    "print(df.describe(), \"\\n\")\n",
    "print(\"=\"*43)\n",
    "print(\" MISSING VALUES \")\n",
    "print(\"=\"*43, \"\\n\")\n",
    "print(df.isnull().sum(), \"\\n\")"
   ]
  },
  {
   "cell_type": "code",
   "execution_count": null,
   "id": "9cc2e123-ea36-4bc8-a973-3c364a40b5f0",
   "metadata": {},
   "outputs": [],
   "source": [
    "import matplotlib.pyplot as plt\n",
    "import seaborn as sns\n",
    "%matplotlib inline"
   ]
  },
  {
   "cell_type": "code",
   "execution_count": null,
   "id": "3fac102c-5c18-4ad8-8191-f788f60e80a8",
   "metadata": {},
   "outputs": [],
   "source": []
  }
 ],
 "metadata": {
  "kernelspec": {
   "display_name": "Python 3 (ipykernel)",
   "language": "python",
   "name": "python3"
  },
  "language_info": {
   "codemirror_mode": {
    "name": "ipython",
    "version": 3
   },
   "file_extension": ".py",
   "mimetype": "text/x-python",
   "name": "python",
   "nbconvert_exporter": "python",
   "pygments_lexer": "ipython3",
   "version": "3.12.2"
  }
 },
 "nbformat": 4,
 "nbformat_minor": 5
}
